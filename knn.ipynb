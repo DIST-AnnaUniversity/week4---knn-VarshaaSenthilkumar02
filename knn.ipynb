{
  "nbformat": 4,
  "nbformat_minor": 0,
  "metadata": {
    "colab": {
      "provenance": []
    },
    "kernelspec": {
      "name": "python3",
      "display_name": "Python 3"
    },
    "language_info": {
      "name": "python"
    }
  },
  "cells": [
    {
      "cell_type": "code",
      "execution_count": null,
      "metadata": {
        "id": "2WDdrXzBtdHT"
      },
      "outputs": [],
      "source": [
        "import pandas as pd\n",
        "import math\n",
        "size_check = pd.read_csv(\"KNN.csv\")"
      ]
    },
    {
      "cell_type": "code",
      "source": [
        "height = size_check[[\"Height\"]]\n",
        "print(height)\n",
        "h = height.iloc[:,-1].values\n",
        "print(h)\n",
        "weight = size_check[[\"Weight\"]]\n",
        "w = weight.iloc[:,-1].values\n",
        "print(w)"
      ],
      "metadata": {
        "colab": {
          "base_uri": "https://localhost:8080/"
        },
        "id": "L3vvoz-st3af",
        "outputId": "c8fe44ae-d482-4ee4-8bfc-526e24723946"
      },
      "execution_count": null,
      "outputs": [
        {
          "output_type": "stream",
          "name": "stdout",
          "text": [
            "    Height\n",
            "0      158\n",
            "1      158\n",
            "2      158\n",
            "3      160\n",
            "4      160\n",
            "5      163\n",
            "6      163\n",
            "7      160\n",
            "8      163\n",
            "9      165\n",
            "10     165\n",
            "11     165\n",
            "12     168\n",
            "13     168\n",
            "14     168\n",
            "15     170\n",
            "16     170\n",
            "17     170\n",
            "[158 158 158 160 160 163 163 160 163 165 165 165 168 168 168 170 170 170]\n",
            "[58 59 63 59 60 60 61 64 64 61 62 65 62 63 66 63 64 68]\n"
          ]
        }
      ]
    },
    {
      "cell_type": "code",
      "source": [
        "test_ins = [161,61]\n",
        "print(test_ins)"
      ],
      "metadata": {
        "colab": {
          "base_uri": "https://localhost:8080/"
        },
        "id": "9LLFruaEu7IM",
        "outputId": "1c3e706b-0b7f-43df-9cb4-4671285f543a"
      },
      "execution_count": null,
      "outputs": [
        {
          "output_type": "stream",
          "name": "stdout",
          "text": [
            "[161, 61]\n"
          ]
        }
      ]
    },
    {
      "cell_type": "code",
      "source": [
        "#Calculating Distance\n",
        "dist_wos = []\n",
        "dis_wos = 0\n",
        "for i in range(0,len(h)):\n",
        "  x1 = (161-h[i])**2\n",
        "  y1 = (61-w[i])**2\n",
        "  dis_wos = math.sqrt(x1+y1)\n",
        "  dist_wos.append(round(dis_wos,2))\n",
        "  # print(dis_wos)\n",
        "print(dist_wos)"
      ],
      "metadata": {
        "colab": {
          "base_uri": "https://localhost:8080/"
        },
        "id": "OZIDMUeTvUrn",
        "outputId": "98fac45f-6b54-429d-d1ca-3e579ea072d2"
      },
      "execution_count": null,
      "outputs": [
        {
          "output_type": "stream",
          "name": "stdout",
          "text": [
            "[4.24, 3.61, 3.61, 2.24, 1.41, 2.24, 2.0, 3.16, 3.61, 4.0, 4.12, 5.66, 7.07, 7.28, 8.6, 9.22, 9.49, 11.4]\n"
          ]
        }
      ]
    },
    {
      "cell_type": "code",
      "source": [
        "dist_wos.sort()\n",
        "print(dist_wos)"
      ],
      "metadata": {
        "colab": {
          "base_uri": "https://localhost:8080/"
        },
        "id": "upwdCnF-yl_O",
        "outputId": "0cb7c167-e89c-49c1-80a8-0225a711e334"
      },
      "execution_count": null,
      "outputs": [
        {
          "output_type": "stream",
          "name": "stdout",
          "text": [
            "[1.41, 2.0, 2.24, 2.24, 3.16, 3.61, 3.61, 3.61, 4.0, 4.12, 4.24, 5.66, 7.07, 7.28, 8.6, 9.22, 9.49, 11.4]\n"
          ]
        }
      ]
    },
    {
      "cell_type": "code",
      "source": [
        "check = dist_wos[:5]\n",
        "print(check)"
      ],
      "metadata": {
        "colab": {
          "base_uri": "https://localhost:8080/"
        },
        "id": "jm9vtx_ez5eH",
        "outputId": "ffac31b4-3cd9-4916-b66c-3f76ecccad5a"
      },
      "execution_count": null,
      "outputs": [
        {
          "output_type": "stream",
          "name": "stdout",
          "text": [
            "[1.41, 2.0, 2.24, 2.24, 3.16]\n"
          ]
        }
      ]
    }
  ]
}